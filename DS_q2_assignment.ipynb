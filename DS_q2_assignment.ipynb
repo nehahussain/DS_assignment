{
  "nbformat": 4,
  "nbformat_minor": 0,
  "metadata": {
    "colab": {
      "name": "DS_q2_assignment.ipynb",
      "provenance": [],
      "collapsed_sections": []
    },
    "kernelspec": {
      "display_name": "Python 3",
      "name": "python3"
    }
  },
  "cells": [
    {
      "cell_type": "markdown",
      "metadata": {
        "id": "e5H_mknERva8"
      },
      "source": [
        "\r\n",
        "Monting Drive\r\n"
      ]
    },
    {
      "cell_type": "code",
      "metadata": {
        "colab": {
          "base_uri": "https://localhost:8080/"
        },
        "id": "4pULP87uyv61",
        "outputId": "55852e70-bd99-4ce6-d32f-73593e2dd879"
      },
      "source": [
        "from google.colab import drive\n",
        "drive.mount('/content/drive')"
      ],
      "execution_count": 57,
      "outputs": [
        {
          "output_type": "stream",
          "text": [
            "Drive already mounted at /content/drive; to attempt to forcibly remount, call drive.mount(\"/content/drive\", force_remount=True).\n"
          ],
          "name": "stdout"
        }
      ]
    },
    {
      "cell_type": "markdown",
      "metadata": {
        "id": "qXLsryd4R-y6"
      },
      "source": [
        "Importing Pandas and Numpy"
      ]
    },
    {
      "cell_type": "code",
      "metadata": {
        "id": "NCN7DCMdKBV6"
      },
      "source": [
        "import pandas as pd\r\n",
        "import numpy as np"
      ],
      "execution_count": 58,
      "outputs": []
    },
    {
      "cell_type": "markdown",
      "metadata": {
        "id": "vmROzYdeSJJS"
      },
      "source": [
        "Path of the drive"
      ]
    },
    {
      "cell_type": "code",
      "metadata": {
        "id": "jvyuqQfv3R_n"
      },
      "source": [
        "path = 'drive/MyDrive'"
      ],
      "execution_count": 59,
      "outputs": []
    },
    {
      "cell_type": "markdown",
      "metadata": {
        "id": "Cgf7jtt2SFL9"
      },
      "source": [
        "Reading the Dataset"
      ]
    },
    {
      "cell_type": "code",
      "metadata": {
        "id": "p6ItscOfKNku"
      },
      "source": [
        "df = pd.read_csv(f'{path}/AQ-Dataset/AirQualityUCI.csv', delimiter=';')"
      ],
      "execution_count": 60,
      "outputs": []
    },
    {
      "cell_type": "markdown",
      "metadata": {
        "id": "uIY9Crh8SNGa"
      },
      "source": [
        "Dataframe"
      ]
    },
    {
      "cell_type": "code",
      "metadata": {
        "colab": {
          "base_uri": "https://localhost:8080/",
          "height": 418
        },
        "id": "8y9bC1TvKb4h",
        "outputId": "c4a21e16-aae9-4b50-de17-df148a099c2c"
      },
      "source": [
        "df"
      ],
      "execution_count": 61,
      "outputs": [
        {
          "output_type": "execute_result",
          "data": {
            "text/html": [
              "<div>\n",
              "<style scoped>\n",
              "    .dataframe tbody tr th:only-of-type {\n",
              "        vertical-align: middle;\n",
              "    }\n",
              "\n",
              "    .dataframe tbody tr th {\n",
              "        vertical-align: top;\n",
              "    }\n",
              "\n",
              "    .dataframe thead th {\n",
              "        text-align: right;\n",
              "    }\n",
              "</style>\n",
              "<table border=\"1\" class=\"dataframe\">\n",
              "  <thead>\n",
              "    <tr style=\"text-align: right;\">\n",
              "      <th></th>\n",
              "      <th>Date</th>\n",
              "      <th>Time</th>\n",
              "      <th>CO(GT)</th>\n",
              "      <th>PT08.S1(CO)</th>\n",
              "      <th>NMHC(GT)</th>\n",
              "      <th>C6H6(GT)</th>\n",
              "      <th>PT08.S2(NMHC)</th>\n",
              "      <th>NOx(GT)</th>\n",
              "      <th>PT08.S3(NOx)</th>\n",
              "      <th>NO2(GT)</th>\n",
              "      <th>PT08.S4(NO2)</th>\n",
              "      <th>PT08.S5(O3)</th>\n",
              "      <th>T</th>\n",
              "      <th>RH</th>\n",
              "      <th>AH</th>\n",
              "      <th>Unnamed: 15</th>\n",
              "      <th>Unnamed: 16</th>\n",
              "    </tr>\n",
              "  </thead>\n",
              "  <tbody>\n",
              "    <tr>\n",
              "      <th>0</th>\n",
              "      <td>10/03/2004</td>\n",
              "      <td>18.00.00</td>\n",
              "      <td>2,6</td>\n",
              "      <td>1360.0</td>\n",
              "      <td>150.0</td>\n",
              "      <td>11,9</td>\n",
              "      <td>1046.0</td>\n",
              "      <td>166.0</td>\n",
              "      <td>1056.0</td>\n",
              "      <td>113.0</td>\n",
              "      <td>1692.0</td>\n",
              "      <td>1268.0</td>\n",
              "      <td>13,6</td>\n",
              "      <td>48,9</td>\n",
              "      <td>0,7578</td>\n",
              "      <td>NaN</td>\n",
              "      <td>NaN</td>\n",
              "    </tr>\n",
              "    <tr>\n",
              "      <th>1</th>\n",
              "      <td>10/03/2004</td>\n",
              "      <td>19.00.00</td>\n",
              "      <td>2</td>\n",
              "      <td>1292.0</td>\n",
              "      <td>112.0</td>\n",
              "      <td>9,4</td>\n",
              "      <td>955.0</td>\n",
              "      <td>103.0</td>\n",
              "      <td>1174.0</td>\n",
              "      <td>92.0</td>\n",
              "      <td>1559.0</td>\n",
              "      <td>972.0</td>\n",
              "      <td>13,3</td>\n",
              "      <td>47,7</td>\n",
              "      <td>0,7255</td>\n",
              "      <td>NaN</td>\n",
              "      <td>NaN</td>\n",
              "    </tr>\n",
              "    <tr>\n",
              "      <th>2</th>\n",
              "      <td>10/03/2004</td>\n",
              "      <td>20.00.00</td>\n",
              "      <td>2,2</td>\n",
              "      <td>1402.0</td>\n",
              "      <td>88.0</td>\n",
              "      <td>9,0</td>\n",
              "      <td>939.0</td>\n",
              "      <td>131.0</td>\n",
              "      <td>1140.0</td>\n",
              "      <td>114.0</td>\n",
              "      <td>1555.0</td>\n",
              "      <td>1074.0</td>\n",
              "      <td>11,9</td>\n",
              "      <td>54,0</td>\n",
              "      <td>0,7502</td>\n",
              "      <td>NaN</td>\n",
              "      <td>NaN</td>\n",
              "    </tr>\n",
              "    <tr>\n",
              "      <th>3</th>\n",
              "      <td>10/03/2004</td>\n",
              "      <td>21.00.00</td>\n",
              "      <td>2,2</td>\n",
              "      <td>1376.0</td>\n",
              "      <td>80.0</td>\n",
              "      <td>9,2</td>\n",
              "      <td>948.0</td>\n",
              "      <td>172.0</td>\n",
              "      <td>1092.0</td>\n",
              "      <td>122.0</td>\n",
              "      <td>1584.0</td>\n",
              "      <td>1203.0</td>\n",
              "      <td>11,0</td>\n",
              "      <td>60,0</td>\n",
              "      <td>0,7867</td>\n",
              "      <td>NaN</td>\n",
              "      <td>NaN</td>\n",
              "    </tr>\n",
              "    <tr>\n",
              "      <th>4</th>\n",
              "      <td>10/03/2004</td>\n",
              "      <td>22.00.00</td>\n",
              "      <td>1,6</td>\n",
              "      <td>1272.0</td>\n",
              "      <td>51.0</td>\n",
              "      <td>6,5</td>\n",
              "      <td>836.0</td>\n",
              "      <td>131.0</td>\n",
              "      <td>1205.0</td>\n",
              "      <td>116.0</td>\n",
              "      <td>1490.0</td>\n",
              "      <td>1110.0</td>\n",
              "      <td>11,2</td>\n",
              "      <td>59,6</td>\n",
              "      <td>0,7888</td>\n",
              "      <td>NaN</td>\n",
              "      <td>NaN</td>\n",
              "    </tr>\n",
              "    <tr>\n",
              "      <th>...</th>\n",
              "      <td>...</td>\n",
              "      <td>...</td>\n",
              "      <td>...</td>\n",
              "      <td>...</td>\n",
              "      <td>...</td>\n",
              "      <td>...</td>\n",
              "      <td>...</td>\n",
              "      <td>...</td>\n",
              "      <td>...</td>\n",
              "      <td>...</td>\n",
              "      <td>...</td>\n",
              "      <td>...</td>\n",
              "      <td>...</td>\n",
              "      <td>...</td>\n",
              "      <td>...</td>\n",
              "      <td>...</td>\n",
              "      <td>...</td>\n",
              "    </tr>\n",
              "    <tr>\n",
              "      <th>9466</th>\n",
              "      <td>NaN</td>\n",
              "      <td>NaN</td>\n",
              "      <td>NaN</td>\n",
              "      <td>NaN</td>\n",
              "      <td>NaN</td>\n",
              "      <td>NaN</td>\n",
              "      <td>NaN</td>\n",
              "      <td>NaN</td>\n",
              "      <td>NaN</td>\n",
              "      <td>NaN</td>\n",
              "      <td>NaN</td>\n",
              "      <td>NaN</td>\n",
              "      <td>NaN</td>\n",
              "      <td>NaN</td>\n",
              "      <td>NaN</td>\n",
              "      <td>NaN</td>\n",
              "      <td>NaN</td>\n",
              "    </tr>\n",
              "    <tr>\n",
              "      <th>9467</th>\n",
              "      <td>NaN</td>\n",
              "      <td>NaN</td>\n",
              "      <td>NaN</td>\n",
              "      <td>NaN</td>\n",
              "      <td>NaN</td>\n",
              "      <td>NaN</td>\n",
              "      <td>NaN</td>\n",
              "      <td>NaN</td>\n",
              "      <td>NaN</td>\n",
              "      <td>NaN</td>\n",
              "      <td>NaN</td>\n",
              "      <td>NaN</td>\n",
              "      <td>NaN</td>\n",
              "      <td>NaN</td>\n",
              "      <td>NaN</td>\n",
              "      <td>NaN</td>\n",
              "      <td>NaN</td>\n",
              "    </tr>\n",
              "    <tr>\n",
              "      <th>9468</th>\n",
              "      <td>NaN</td>\n",
              "      <td>NaN</td>\n",
              "      <td>NaN</td>\n",
              "      <td>NaN</td>\n",
              "      <td>NaN</td>\n",
              "      <td>NaN</td>\n",
              "      <td>NaN</td>\n",
              "      <td>NaN</td>\n",
              "      <td>NaN</td>\n",
              "      <td>NaN</td>\n",
              "      <td>NaN</td>\n",
              "      <td>NaN</td>\n",
              "      <td>NaN</td>\n",
              "      <td>NaN</td>\n",
              "      <td>NaN</td>\n",
              "      <td>NaN</td>\n",
              "      <td>NaN</td>\n",
              "    </tr>\n",
              "    <tr>\n",
              "      <th>9469</th>\n",
              "      <td>NaN</td>\n",
              "      <td>NaN</td>\n",
              "      <td>NaN</td>\n",
              "      <td>NaN</td>\n",
              "      <td>NaN</td>\n",
              "      <td>NaN</td>\n",
              "      <td>NaN</td>\n",
              "      <td>NaN</td>\n",
              "      <td>NaN</td>\n",
              "      <td>NaN</td>\n",
              "      <td>NaN</td>\n",
              "      <td>NaN</td>\n",
              "      <td>NaN</td>\n",
              "      <td>NaN</td>\n",
              "      <td>NaN</td>\n",
              "      <td>NaN</td>\n",
              "      <td>NaN</td>\n",
              "    </tr>\n",
              "    <tr>\n",
              "      <th>9470</th>\n",
              "      <td>NaN</td>\n",
              "      <td>NaN</td>\n",
              "      <td>NaN</td>\n",
              "      <td>NaN</td>\n",
              "      <td>NaN</td>\n",
              "      <td>NaN</td>\n",
              "      <td>NaN</td>\n",
              "      <td>NaN</td>\n",
              "      <td>NaN</td>\n",
              "      <td>NaN</td>\n",
              "      <td>NaN</td>\n",
              "      <td>NaN</td>\n",
              "      <td>NaN</td>\n",
              "      <td>NaN</td>\n",
              "      <td>NaN</td>\n",
              "      <td>NaN</td>\n",
              "      <td>NaN</td>\n",
              "    </tr>\n",
              "  </tbody>\n",
              "</table>\n",
              "<p>9471 rows × 17 columns</p>\n",
              "</div>"
            ],
            "text/plain": [
              "            Date      Time CO(GT)  ...      AH  Unnamed: 15 Unnamed: 16\n",
              "0     10/03/2004  18.00.00    2,6  ...  0,7578          NaN         NaN\n",
              "1     10/03/2004  19.00.00      2  ...  0,7255          NaN         NaN\n",
              "2     10/03/2004  20.00.00    2,2  ...  0,7502          NaN         NaN\n",
              "3     10/03/2004  21.00.00    2,2  ...  0,7867          NaN         NaN\n",
              "4     10/03/2004  22.00.00    1,6  ...  0,7888          NaN         NaN\n",
              "...          ...       ...    ...  ...     ...          ...         ...\n",
              "9466         NaN       NaN    NaN  ...     NaN          NaN         NaN\n",
              "9467         NaN       NaN    NaN  ...     NaN          NaN         NaN\n",
              "9468         NaN       NaN    NaN  ...     NaN          NaN         NaN\n",
              "9469         NaN       NaN    NaN  ...     NaN          NaN         NaN\n",
              "9470         NaN       NaN    NaN  ...     NaN          NaN         NaN\n",
              "\n",
              "[9471 rows x 17 columns]"
            ]
          },
          "metadata": {
            "tags": []
          },
          "execution_count": 61
        }
      ]
    },
    {
      "cell_type": "markdown",
      "metadata": {
        "id": "-yVbFERPSUAR"
      },
      "source": [
        "Columns in the Dataframe"
      ]
    },
    {
      "cell_type": "code",
      "metadata": {
        "id": "nYGQHtOaQa6A",
        "colab": {
          "base_uri": "https://localhost:8080/"
        },
        "outputId": "86809124-97eb-40c7-9eb4-bb3c997d2c18"
      },
      "source": [
        "df.columns"
      ],
      "execution_count": 62,
      "outputs": [
        {
          "output_type": "execute_result",
          "data": {
            "text/plain": [
              "Index(['Date', 'Time', 'CO(GT)', 'PT08.S1(CO)', 'NMHC(GT)', 'C6H6(GT)',\n",
              "       'PT08.S2(NMHC)', 'NOx(GT)', 'PT08.S3(NOx)', 'NO2(GT)', 'PT08.S4(NO2)',\n",
              "       'PT08.S5(O3)', 'T', 'RH', 'AH', 'Unnamed: 15', 'Unnamed: 16'],\n",
              "      dtype='object')"
            ]
          },
          "metadata": {
            "tags": []
          },
          "execution_count": 62
        }
      ]
    },
    {
      "cell_type": "markdown",
      "metadata": {
        "id": "_Rj_w6AjSaVU"
      },
      "source": [
        "Check if all the values in the column unnamed: 15 is Null"
      ]
    },
    {
      "cell_type": "code",
      "metadata": {
        "id": "l4n8j00lNM-2",
        "colab": {
          "base_uri": "https://localhost:8080/"
        },
        "outputId": "b37f8f1e-e705-4140-a8e8-2fb88a22acae"
      },
      "source": [
        "df['Unnamed: 15'].isna().all()"
      ],
      "execution_count": 63,
      "outputs": [
        {
          "output_type": "execute_result",
          "data": {
            "text/plain": [
              "True"
            ]
          },
          "metadata": {
            "tags": []
          },
          "execution_count": 63
        }
      ]
    },
    {
      "cell_type": "markdown",
      "metadata": {
        "id": "9InSo-B5TOPZ"
      },
      "source": [
        "Check if all the values in the column unnamed: 16 is Null"
      ]
    },
    {
      "cell_type": "code",
      "metadata": {
        "colab": {
          "base_uri": "https://localhost:8080/"
        },
        "id": "D-01iwCpF_yX",
        "outputId": "23a20217-0698-45c4-d964-f38674617299"
      },
      "source": [
        "df['Unnamed: 16'].isna().all()"
      ],
      "execution_count": 64,
      "outputs": [
        {
          "output_type": "execute_result",
          "data": {
            "text/plain": [
              "True"
            ]
          },
          "metadata": {
            "tags": []
          },
          "execution_count": 64
        }
      ]
    },
    {
      "cell_type": "markdown",
      "metadata": {
        "id": "rEVA7nwqTXSp"
      },
      "source": [
        "Dropping Columns unnamed:15 and unnamed:16"
      ]
    },
    {
      "cell_type": "code",
      "metadata": {
        "colab": {
          "base_uri": "https://localhost:8080/"
        },
        "id": "YxId_mxyGGRq",
        "outputId": "184e30ef-fee1-44b0-9fdf-476a211946ff"
      },
      "source": [
        "df=df.drop(labels=['Unnamed: 15', 'Unnamed: 16'], axis=1)\r\n",
        "print(df)"
      ],
      "execution_count": 65,
      "outputs": [
        {
          "output_type": "stream",
          "text": [
            "            Date      Time CO(GT)  PT08.S1(CO)  ...  PT08.S5(O3)     T    RH      AH\n",
            "0     10/03/2004  18.00.00    2,6       1360.0  ...       1268.0  13,6  48,9  0,7578\n",
            "1     10/03/2004  19.00.00      2       1292.0  ...        972.0  13,3  47,7  0,7255\n",
            "2     10/03/2004  20.00.00    2,2       1402.0  ...       1074.0  11,9  54,0  0,7502\n",
            "3     10/03/2004  21.00.00    2,2       1376.0  ...       1203.0  11,0  60,0  0,7867\n",
            "4     10/03/2004  22.00.00    1,6       1272.0  ...       1110.0  11,2  59,6  0,7888\n",
            "...          ...       ...    ...          ...  ...          ...   ...   ...     ...\n",
            "9466         NaN       NaN    NaN          NaN  ...          NaN   NaN   NaN     NaN\n",
            "9467         NaN       NaN    NaN          NaN  ...          NaN   NaN   NaN     NaN\n",
            "9468         NaN       NaN    NaN          NaN  ...          NaN   NaN   NaN     NaN\n",
            "9469         NaN       NaN    NaN          NaN  ...          NaN   NaN   NaN     NaN\n",
            "9470         NaN       NaN    NaN          NaN  ...          NaN   NaN   NaN     NaN\n",
            "\n",
            "[9471 rows x 15 columns]\n"
          ],
          "name": "stdout"
        }
      ]
    },
    {
      "cell_type": "markdown",
      "metadata": {
        "id": "1Kk1hEFuTfuP"
      },
      "source": [
        "Dropping rows in which all the column values are null"
      ]
    },
    {
      "cell_type": "code",
      "metadata": {
        "id": "tXGk90PZHXMh",
        "colab": {
          "base_uri": "https://localhost:8080/"
        },
        "outputId": "a5ad7d31-0768-4154-85ec-90cb0ff393a2"
      },
      "source": [
        "df = df.dropna(how='all')\r\n",
        "print(df)"
      ],
      "execution_count": 66,
      "outputs": [
        {
          "output_type": "stream",
          "text": [
            "            Date      Time CO(GT)  PT08.S1(CO)  ...  PT08.S5(O3)     T    RH      AH\n",
            "0     10/03/2004  18.00.00    2,6       1360.0  ...       1268.0  13,6  48,9  0,7578\n",
            "1     10/03/2004  19.00.00      2       1292.0  ...        972.0  13,3  47,7  0,7255\n",
            "2     10/03/2004  20.00.00    2,2       1402.0  ...       1074.0  11,9  54,0  0,7502\n",
            "3     10/03/2004  21.00.00    2,2       1376.0  ...       1203.0  11,0  60,0  0,7867\n",
            "4     10/03/2004  22.00.00    1,6       1272.0  ...       1110.0  11,2  59,6  0,7888\n",
            "...          ...       ...    ...          ...  ...          ...   ...   ...     ...\n",
            "9352  04/04/2005  10.00.00    3,1       1314.0  ...       1729.0  21,9  29,3  0,7568\n",
            "9353  04/04/2005  11.00.00    2,4       1163.0  ...       1269.0  24,3  23,7  0,7119\n",
            "9354  04/04/2005  12.00.00    2,4       1142.0  ...       1092.0  26,9  18,3  0,6406\n",
            "9355  04/04/2005  13.00.00    2,1       1003.0  ...        770.0  28,3  13,5  0,5139\n",
            "9356  04/04/2005  14.00.00    2,2       1071.0  ...        816.0  28,5  13,1  0,5028\n",
            "\n",
            "[9357 rows x 15 columns]\n"
          ],
          "name": "stdout"
        }
      ]
    },
    {
      "cell_type": "markdown",
      "metadata": {
        "id": "-HLll9tZTnpZ"
      },
      "source": [
        "Replacing -200 with an empty string"
      ]
    },
    {
      "cell_type": "code",
      "metadata": {
        "id": "3eI_T7oB8P5M",
        "colab": {
          "base_uri": "https://localhost:8080/"
        },
        "outputId": "e8c35882-edf3-43ba-893b-f10be9d13dba"
      },
      "source": [
        "df.replace({'-200',''}, inplace=True)\r\n",
        "print(df)"
      ],
      "execution_count": 67,
      "outputs": [
        {
          "output_type": "stream",
          "text": [
            "            Date      Time CO(GT)  PT08.S1(CO)  ...  PT08.S5(O3)     T    RH      AH\n",
            "0     10/03/2004  18.00.00    2,6       1360.0  ...       1268.0  13,6  48,9  0,7578\n",
            "1     10/03/2004  19.00.00      2       1292.0  ...        972.0  13,3  47,7  0,7255\n",
            "2     10/03/2004  20.00.00    2,2       1402.0  ...       1074.0  11,9  54,0  0,7502\n",
            "3     10/03/2004  21.00.00    2,2       1376.0  ...       1203.0  11,0  60,0  0,7867\n",
            "4     10/03/2004  22.00.00    1,6       1272.0  ...       1110.0  11,2  59,6  0,7888\n",
            "...          ...       ...    ...          ...  ...          ...   ...   ...     ...\n",
            "9352  04/04/2005  10.00.00    3,1       1314.0  ...       1729.0  21,9  29,3  0,7568\n",
            "9353  04/04/2005  11.00.00    2,4       1163.0  ...       1269.0  24,3  23,7  0,7119\n",
            "9354  04/04/2005  12.00.00    2,4       1142.0  ...       1092.0  26,9  18,3  0,6406\n",
            "9355  04/04/2005  13.00.00    2,1       1003.0  ...        770.0  28,3  13,5  0,5139\n",
            "9356  04/04/2005  14.00.00    2,2       1071.0  ...        816.0  28,5  13,1  0,5028\n",
            "\n",
            "[9357 rows x 15 columns]\n"
          ],
          "name": "stdout"
        }
      ]
    },
    {
      "cell_type": "markdown",
      "metadata": {
        "id": "md5cdP9zUgs4"
      },
      "source": [
        "Changing data type of column time from object to string"
      ]
    },
    {
      "cell_type": "code",
      "metadata": {
        "colab": {
          "base_uri": "https://localhost:8080/"
        },
        "id": "hPQPxV1x-c86",
        "outputId": "38fb05d8-57e4-4b1c-9e0b-3c0d8d21f4d2"
      },
      "source": [
        "print(df['Time'].dtypes)\r\n",
        "df['Time']=df['Time'].astype('string')\r\n",
        "print(df['Time'].dtypes)"
      ],
      "execution_count": 68,
      "outputs": [
        {
          "output_type": "stream",
          "text": [
            "object\n",
            "string\n"
          ],
          "name": "stdout"
        }
      ]
    },
    {
      "cell_type": "markdown",
      "metadata": {
        "id": "miG1iqAsUucz"
      },
      "source": [
        "Replacing the '.' with ':\" to make the values in date format"
      ]
    },
    {
      "cell_type": "code",
      "metadata": {
        "colab": {
          "base_uri": "https://localhost:8080/"
        },
        "id": "SBNi0huC9vG5",
        "outputId": "f1e761b0-db94-4e46-ed70-3ef551b192c0"
      },
      "source": [
        "df['Time']=df['Time'].str.replace('.',':')\r\n",
        "print(df['Time'])"
      ],
      "execution_count": 69,
      "outputs": [
        {
          "output_type": "stream",
          "text": [
            "0       18:00:00\n",
            "1       19:00:00\n",
            "2       20:00:00\n",
            "3       21:00:00\n",
            "4       22:00:00\n",
            "          ...   \n",
            "9352    10:00:00\n",
            "9353    11:00:00\n",
            "9354    12:00:00\n",
            "9355    13:00:00\n",
            "9356    14:00:00\n",
            "Name: Time, Length: 9357, dtype: string\n"
          ],
          "name": "stdout"
        }
      ]
    },
    {
      "cell_type": "markdown",
      "metadata": {
        "id": "G3AmJYsxU5QQ"
      },
      "source": [
        "Data type of column 'Time' changed to datetime "
      ]
    },
    {
      "cell_type": "code",
      "metadata": {
        "colab": {
          "base_uri": "https://localhost:8080/"
        },
        "id": "U5RvvWofIhlt",
        "outputId": "81c6b0f9-919d-4ce2-b137-834f43572a4c"
      },
      "source": [
        "df['Time']=pd.to_datetime(df['Time'])\r\n",
        "print(df['Time'].dtypes)"
      ],
      "execution_count": 70,
      "outputs": [
        {
          "output_type": "stream",
          "text": [
            "datetime64[ns]\n"
          ],
          "name": "stdout"
        }
      ]
    },
    {
      "cell_type": "markdown",
      "metadata": {
        "id": "ui9kzAKGXihV"
      },
      "source": [
        "*   Replace ',' to '.' in column 'CO(GT)' \r\n",
        "*   Replace '.0' to empty string in column 'CO(GT)' \r\n",
        "\r\n",
        "\r\n"
      ]
    },
    {
      "cell_type": "code",
      "metadata": {
        "colab": {
          "base_uri": "https://localhost:8080/"
        },
        "id": "qJphe5mhJFHi",
        "outputId": "c3150300-a021-41b6-d681-9ada61ce7ce1"
      },
      "source": [
        "df['CO(GT)']=df['CO(GT)'].str.replace(',','.')\r\n",
        "df['CO(GT)']=df['CO(GT)'].str.replace('.0','')\r\n",
        "print(df['CO(GT)'])"
      ],
      "execution_count": 71,
      "outputs": [
        {
          "output_type": "stream",
          "text": [
            "0       2.6\n",
            "1         2\n",
            "2       2.2\n",
            "3       2.2\n",
            "4       1.6\n",
            "       ... \n",
            "9352    3.1\n",
            "9353    2.4\n",
            "9354    2.4\n",
            "9355    2.1\n",
            "9356    2.2\n",
            "Name: CO(GT), Length: 9357, dtype: object\n"
          ],
          "name": "stdout"
        }
      ]
    },
    {
      "cell_type": "markdown",
      "metadata": {
        "id": "i_HqgjfUYJWH"
      },
      "source": [
        "*   Filling the missing values with the last valid value in column 'CO(GT)'\r\n",
        "*   Changing data type of column 'CO(GT)' to numeric\r\n",
        "*   Check if there is any null values left in the column 'CO(GT)'\r\n",
        "\r\n",
        "\r\n",
        "\r\n"
      ]
    },
    {
      "cell_type": "code",
      "metadata": {
        "colab": {
          "base_uri": "https://localhost:8080/"
        },
        "id": "I865thPdJ2Lk",
        "outputId": "a1efbd92-22b0-4034-b59c-c7cdb9c53198"
      },
      "source": [
        "df['CO(GT)'].fillna(method='pad')\r\n",
        "df['CO(GT)']=df['CO(GT)'].apply(pd.to_numeric,errors='coerce')\r\n",
        "print(df['CO(GT)'].dtypes)\r\n",
        "print(df['CO(GT)'].isna().all())\r\n",
        "print(df['CO(GT)'])"
      ],
      "execution_count": 72,
      "outputs": [
        {
          "output_type": "stream",
          "text": [
            "float64\n",
            "False\n",
            "0       2.6\n",
            "1       2.0\n",
            "2       2.2\n",
            "3       2.2\n",
            "4       1.6\n",
            "       ... \n",
            "9352    3.1\n",
            "9353    2.4\n",
            "9354    2.4\n",
            "9355    2.1\n",
            "9356    2.2\n",
            "Name: CO(GT), Length: 9357, dtype: float64\n"
          ],
          "name": "stdout"
        }
      ]
    },
    {
      "cell_type": "markdown",
      "metadata": {
        "id": "F4dpHclgY-qV"
      },
      "source": [
        "*   Replace ',' to '.' in column 'C6H6(GT)'\r\n",
        "*   Replace '.0' to empty string in column 'C6H6(GT)'\r\n",
        "*   Filling the missing values with the last valid value in column 'C6H6(GT)'\r\n",
        "*   Changing data type of column 'C6H6(GT)' to numeric\r\n",
        "*   Check if there is any null values left in the column 'C6H6(GT)'\r\n"
      ]
    },
    {
      "cell_type": "code",
      "metadata": {
        "colab": {
          "base_uri": "https://localhost:8080/"
        },
        "id": "q2zKczsWONdS",
        "outputId": "182a7e50-09b8-4e4c-ed14-e7ceb5ab6a02"
      },
      "source": [
        "df['C6H6(GT)']=df['C6H6(GT)'].str.replace(',','.')\r\n",
        "df['C6H6(GT)']=df['C6H6(GT)'].str.replace('.0','')\r\n",
        "df['C6H6(GT)'].fillna(method='pad')\r\n",
        "df['C6H6(GT)']=df['C6H6(GT)'].apply(pd.to_numeric,errors='coerce')\r\n",
        "print(df['C6H6(GT)'].dtypes)\r\n",
        "print(df['C6H6(GT)'].isna().all())\r\n",
        "print(df['C6H6(GT)'])"
      ],
      "execution_count": 73,
      "outputs": [
        {
          "output_type": "stream",
          "text": [
            "float64\n",
            "False\n",
            "0       11.9\n",
            "1        9.4\n",
            "2        9.0\n",
            "3        9.2\n",
            "4        6.5\n",
            "        ... \n",
            "9352    13.5\n",
            "9353    11.4\n",
            "9354    12.4\n",
            "9355     9.5\n",
            "9356    11.9\n",
            "Name: C6H6(GT), Length: 9357, dtype: float64\n"
          ],
          "name": "stdout"
        }
      ]
    },
    {
      "cell_type": "markdown",
      "metadata": {
        "id": "LEkPFDX9Zuk8"
      },
      "source": [
        "*   Filling the missing values with the last valid value in column 'PT08.S2(NMHC)'\r\n",
        "*   Check if there is any null values left in the column 'PT08.S2(NMHC)'\r\n",
        "\r\n",
        "\r\n"
      ]
    },
    {
      "cell_type": "code",
      "metadata": {
        "colab": {
          "base_uri": "https://localhost:8080/"
        },
        "id": "0mz7iOIJPZR7",
        "outputId": "19f410a7-406e-41dc-dfb3-94afd7dedefd"
      },
      "source": [
        "df['PT08.S2(NMHC)'].fillna(method='pad')\r\n",
        "print(df['PT08.S2(NMHC)'].isna().all())\r\n",
        "print(df['PT08.S2(NMHC)'])"
      ],
      "execution_count": 49,
      "outputs": [
        {
          "output_type": "stream",
          "text": [
            "False\n",
            "0       1046.0\n",
            "1        955.0\n",
            "2        939.0\n",
            "3        948.0\n",
            "4        836.0\n",
            "         ...  \n",
            "9352    1101.0\n",
            "9353    1027.0\n",
            "9354    1063.0\n",
            "9355     961.0\n",
            "9356    1047.0\n",
            "Name: PT08.S2(NMHC), Length: 9357, dtype: float64\n"
          ],
          "name": "stdout"
        }
      ]
    },
    {
      "cell_type": "markdown",
      "metadata": {
        "id": "5dF_ASjwaL7X"
      },
      "source": [
        "*   Filling the missing values with the last valid value in column 'NOx(GT)'\r\n",
        "*   Check if there is any null values left in the column 'NOx(GT)'\r\n",
        "\r\n"
      ]
    },
    {
      "cell_type": "code",
      "metadata": {
        "colab": {
          "base_uri": "https://localhost:8080/"
        },
        "id": "1lSnHBUSPucl",
        "outputId": "1687e09a-b6dd-4145-81b8-528db4bdb6d0"
      },
      "source": [
        "df['NOx(GT)'].fillna(method='pad')\r\n",
        "print(df['NOx(GT)'].isna().all())\r\n",
        "print(df['NOx(GT)'])"
      ],
      "execution_count": 74,
      "outputs": [
        {
          "output_type": "stream",
          "text": [
            "False\n",
            "0       166.0\n",
            "1       103.0\n",
            "2       131.0\n",
            "3       172.0\n",
            "4       131.0\n",
            "        ...  \n",
            "9352    472.0\n",
            "9353    353.0\n",
            "9354    293.0\n",
            "9355    235.0\n",
            "9356    265.0\n",
            "Name: NOx(GT), Length: 9357, dtype: float64\n"
          ],
          "name": "stdout"
        }
      ]
    },
    {
      "cell_type": "markdown",
      "metadata": {
        "id": "nA_WskbCai7F"
      },
      "source": [
        "*   Filling the missing values with the last valid value in column 'NO2(GT)'\r\n",
        "*   Check if there is any null values left in the column 'NO2(GT)'\r\n",
        "\r\n",
        "\r\n"
      ]
    },
    {
      "cell_type": "code",
      "metadata": {
        "colab": {
          "base_uri": "https://localhost:8080/"
        },
        "id": "KtLvdz0xP4F1",
        "outputId": "cc35e20a-4c8d-473b-f8c6-4eec8a07985e"
      },
      "source": [
        "df['NO2(GT)'].fillna(method='pad')\r\n",
        "print(df['NO2(GT)'].isna().all())\r\n",
        "print(df['NO2(GT)'])"
      ],
      "execution_count": 75,
      "outputs": [
        {
          "output_type": "stream",
          "text": [
            "False\n",
            "0       113.0\n",
            "1        92.0\n",
            "2       114.0\n",
            "3       122.0\n",
            "4       116.0\n",
            "        ...  \n",
            "9352    190.0\n",
            "9353    179.0\n",
            "9354    175.0\n",
            "9355    156.0\n",
            "9356    168.0\n",
            "Name: NO2(GT), Length: 9357, dtype: float64\n"
          ],
          "name": "stdout"
        }
      ]
    },
    {
      "cell_type": "markdown",
      "metadata": {
        "id": "dMUKGBwBaxeD"
      },
      "source": [
        "*   Filling the missing values with the last valid value in column 'PT08.S4(NO2)'\r\n",
        "*   Check if there is any null values left in the column 'PT08.S4(NO2)'"
      ]
    },
    {
      "cell_type": "code",
      "metadata": {
        "colab": {
          "base_uri": "https://localhost:8080/"
        },
        "id": "vu2KM8GJP97M",
        "outputId": "76a9aa76-404a-439a-efd9-b79222e021c9"
      },
      "source": [
        "df['PT08.S4(NO2)'].fillna(method='pad')\r\n",
        "print(df['PT08.S4(NO2)'].isna().all())\r\n",
        "print(df['PT08.S4(NO2)'])"
      ],
      "execution_count": 76,
      "outputs": [
        {
          "output_type": "stream",
          "text": [
            "False\n",
            "0       1692.0\n",
            "1       1559.0\n",
            "2       1555.0\n",
            "3       1584.0\n",
            "4       1490.0\n",
            "         ...  \n",
            "9352    1374.0\n",
            "9353    1264.0\n",
            "9354    1241.0\n",
            "9355    1041.0\n",
            "9356    1129.0\n",
            "Name: PT08.S4(NO2), Length: 9357, dtype: float64\n"
          ],
          "name": "stdout"
        }
      ]
    },
    {
      "cell_type": "markdown",
      "metadata": {
        "id": "wIYIWmQ0bL4W"
      },
      "source": [
        "*   Filling the missing values with the last valid value in column 'PT08.S5(O3)'\r\n",
        "*   Check if there is any null values left in the column 'PT08.S5(O3)'"
      ]
    },
    {
      "cell_type": "code",
      "metadata": {
        "colab": {
          "base_uri": "https://localhost:8080/"
        },
        "id": "7FrzYlQAQMOJ",
        "outputId": "7c465838-0847-499f-ac78-a5c554082266"
      },
      "source": [
        "df['PT08.S5(O3)'].fillna(method='pad')\r\n",
        "print(df['PT08.S5(O3)'].isna().all())\r\n",
        "print(df['PT08.S5(O3)'])"
      ],
      "execution_count": 77,
      "outputs": [
        {
          "output_type": "stream",
          "text": [
            "False\n",
            "0       1268.0\n",
            "1        972.0\n",
            "2       1074.0\n",
            "3       1203.0\n",
            "4       1110.0\n",
            "         ...  \n",
            "9352    1729.0\n",
            "9353    1269.0\n",
            "9354    1092.0\n",
            "9355     770.0\n",
            "9356     816.0\n",
            "Name: PT08.S5(O3), Length: 9357, dtype: float64\n"
          ],
          "name": "stdout"
        }
      ]
    },
    {
      "cell_type": "markdown",
      "metadata": {
        "id": "70Fw-fXzbj9g"
      },
      "source": [
        "*   Replace ',' to '.' in column 'T'\r\n",
        "*   Filling the missing values with the last valid value in column 'T'\r\n",
        "*   Changing data type of column 'T' to numeric\r\n",
        "*   Check if there is any null values left in the column 'T'"
      ]
    },
    {
      "cell_type": "code",
      "metadata": {
        "colab": {
          "base_uri": "https://localhost:8080/"
        },
        "id": "DKfDllNlQdcE",
        "outputId": "71a0fb88-617c-4361-ebb4-0ebbb2a6fa55"
      },
      "source": [
        "df['T']=df['T'].str.replace(',','.')\r\n",
        "df['T'].fillna(method='pad')\r\n",
        "df['T']=df['T'].apply(pd.to_numeric,errors='coerce')\r\n",
        "print(df['T'].isna().all())\r\n",
        "print(df['T'])"
      ],
      "execution_count": 78,
      "outputs": [
        {
          "output_type": "stream",
          "text": [
            "False\n",
            "0       13.6\n",
            "1       13.3\n",
            "2       11.9\n",
            "3       11.0\n",
            "4       11.2\n",
            "        ... \n",
            "9352    21.9\n",
            "9353    24.3\n",
            "9354    26.9\n",
            "9355    28.3\n",
            "9356    28.5\n",
            "Name: T, Length: 9357, dtype: float64\n"
          ],
          "name": "stdout"
        }
      ]
    },
    {
      "cell_type": "markdown",
      "metadata": {
        "id": "jpFi6CtncYuW"
      },
      "source": [
        "*   Replace ',' to '.' in column 'RH'\r\n",
        "*   Filling the missing values with the last valid value in column 'RH'\r\n",
        "*   Changing data type of column 'RH' to numeric\r\n",
        "*   Check if there is any null values left in the column 'RH'"
      ]
    },
    {
      "cell_type": "code",
      "metadata": {
        "colab": {
          "base_uri": "https://localhost:8080/"
        },
        "id": "Suu3P8R7Q9PS",
        "outputId": "a32f06ea-89a2-4591-9ad6-bf80bea41cd3"
      },
      "source": [
        "df['RH']=df['RH'].str.replace(',','.')\r\n",
        "df['RH'].fillna(method='pad')\r\n",
        "df['RH']=df['RH'].apply(pd.to_numeric,errors='coerce')\r\n",
        "print(df['RH'].isna().all())\r\n",
        "print(df['RH'])"
      ],
      "execution_count": 79,
      "outputs": [
        {
          "output_type": "stream",
          "text": [
            "False\n",
            "0       48.9\n",
            "1       47.7\n",
            "2       54.0\n",
            "3       60.0\n",
            "4       59.6\n",
            "        ... \n",
            "9352    29.3\n",
            "9353    23.7\n",
            "9354    18.3\n",
            "9355    13.5\n",
            "9356    13.1\n",
            "Name: RH, Length: 9357, dtype: float64\n"
          ],
          "name": "stdout"
        }
      ]
    },
    {
      "cell_type": "markdown",
      "metadata": {
        "id": "2fbH2VEPcoNN"
      },
      "source": [
        "*   Replace ',' to '.' in column 'AH'\r\n",
        "*   Filling the missing values with the last valid value in column 'AH'\r\n",
        "*   Changing data type of column 'AH' to numeric\r\n",
        "*   Check if there is any null values left in the column 'AH'"
      ]
    },
    {
      "cell_type": "code",
      "metadata": {
        "colab": {
          "base_uri": "https://localhost:8080/"
        },
        "id": "rfFBuRsoRFrU",
        "outputId": "be4bf263-5427-4c1d-93a6-6fc56e596ab8"
      },
      "source": [
        "df['AH']=df['AH'].str.replace(',','.')\r\n",
        "df['AH'].fillna(method='pad')\r\n",
        "df['AH']=df['AH'].apply(pd.to_numeric,errors='coerce')\r\n",
        "print(df['AH'].isna().all())\r\n",
        "print(df['AH'].dtypes)\r\n",
        "print(df['AH'])"
      ],
      "execution_count": 80,
      "outputs": [
        {
          "output_type": "stream",
          "text": [
            "False\n",
            "float64\n",
            "0       0.7578\n",
            "1       0.7255\n",
            "2       0.7502\n",
            "3       0.7867\n",
            "4       0.7888\n",
            "         ...  \n",
            "9352    0.7568\n",
            "9353    0.7119\n",
            "9354    0.6406\n",
            "9355    0.5139\n",
            "9356    0.5028\n",
            "Name: AH, Length: 9357, dtype: float64\n"
          ],
          "name": "stdout"
        }
      ]
    },
    {
      "cell_type": "markdown",
      "metadata": {
        "id": "AjJ-2NUrc-Ix"
      },
      "source": [
        "Changing the datatype of column 'date' to datetime"
      ]
    },
    {
      "cell_type": "code",
      "metadata": {
        "colab": {
          "base_uri": "https://localhost:8080/"
        },
        "id": "gseA1P0dRjzo",
        "outputId": "5bcb7d7c-dd94-47fb-87d7-1c915f647dbe"
      },
      "source": [
        "df['Date']=pd.to_datetime(df['Date'])\r\n",
        "df['Date'].dtypes"
      ],
      "execution_count": 82,
      "outputs": [
        {
          "output_type": "execute_result",
          "data": {
            "text/plain": [
              "dtype('<M8[ns]')"
            ]
          },
          "metadata": {
            "tags": []
          },
          "execution_count": 82
        }
      ]
    },
    {
      "cell_type": "markdown",
      "metadata": {
        "id": "LZuzsRM4dchU"
      },
      "source": [
        "Final Dataframe"
      ]
    },
    {
      "cell_type": "code",
      "metadata": {
        "colab": {
          "base_uri": "https://localhost:8080/",
          "height": 402
        },
        "id": "yODKLeR5dcId",
        "outputId": "57991a39-2268-445b-c6fd-c64a461bf0a1"
      },
      "source": [
        "df"
      ],
      "execution_count": 83,
      "outputs": [
        {
          "output_type": "execute_result",
          "data": {
            "text/html": [
              "<div>\n",
              "<style scoped>\n",
              "    .dataframe tbody tr th:only-of-type {\n",
              "        vertical-align: middle;\n",
              "    }\n",
              "\n",
              "    .dataframe tbody tr th {\n",
              "        vertical-align: top;\n",
              "    }\n",
              "\n",
              "    .dataframe thead th {\n",
              "        text-align: right;\n",
              "    }\n",
              "</style>\n",
              "<table border=\"1\" class=\"dataframe\">\n",
              "  <thead>\n",
              "    <tr style=\"text-align: right;\">\n",
              "      <th></th>\n",
              "      <th>Date</th>\n",
              "      <th>Time</th>\n",
              "      <th>CO(GT)</th>\n",
              "      <th>PT08.S1(CO)</th>\n",
              "      <th>NMHC(GT)</th>\n",
              "      <th>C6H6(GT)</th>\n",
              "      <th>PT08.S2(NMHC)</th>\n",
              "      <th>NOx(GT)</th>\n",
              "      <th>PT08.S3(NOx)</th>\n",
              "      <th>NO2(GT)</th>\n",
              "      <th>PT08.S4(NO2)</th>\n",
              "      <th>PT08.S5(O3)</th>\n",
              "      <th>T</th>\n",
              "      <th>RH</th>\n",
              "      <th>AH</th>\n",
              "    </tr>\n",
              "  </thead>\n",
              "  <tbody>\n",
              "    <tr>\n",
              "      <th>0</th>\n",
              "      <td>2004-10-03</td>\n",
              "      <td>2021-03-05 18:00:00</td>\n",
              "      <td>2.6</td>\n",
              "      <td>1360.0</td>\n",
              "      <td>150.0</td>\n",
              "      <td>11.9</td>\n",
              "      <td>1046.0</td>\n",
              "      <td>166.0</td>\n",
              "      <td>1056.0</td>\n",
              "      <td>113.0</td>\n",
              "      <td>1692.0</td>\n",
              "      <td>1268.0</td>\n",
              "      <td>13.6</td>\n",
              "      <td>48.9</td>\n",
              "      <td>0.7578</td>\n",
              "    </tr>\n",
              "    <tr>\n",
              "      <th>1</th>\n",
              "      <td>2004-10-03</td>\n",
              "      <td>2021-03-05 19:00:00</td>\n",
              "      <td>2.0</td>\n",
              "      <td>1292.0</td>\n",
              "      <td>112.0</td>\n",
              "      <td>9.4</td>\n",
              "      <td>955.0</td>\n",
              "      <td>103.0</td>\n",
              "      <td>1174.0</td>\n",
              "      <td>92.0</td>\n",
              "      <td>1559.0</td>\n",
              "      <td>972.0</td>\n",
              "      <td>13.3</td>\n",
              "      <td>47.7</td>\n",
              "      <td>0.7255</td>\n",
              "    </tr>\n",
              "    <tr>\n",
              "      <th>2</th>\n",
              "      <td>2004-10-03</td>\n",
              "      <td>2021-03-05 20:00:00</td>\n",
              "      <td>2.2</td>\n",
              "      <td>1402.0</td>\n",
              "      <td>88.0</td>\n",
              "      <td>9.0</td>\n",
              "      <td>939.0</td>\n",
              "      <td>131.0</td>\n",
              "      <td>1140.0</td>\n",
              "      <td>114.0</td>\n",
              "      <td>1555.0</td>\n",
              "      <td>1074.0</td>\n",
              "      <td>11.9</td>\n",
              "      <td>54.0</td>\n",
              "      <td>0.7502</td>\n",
              "    </tr>\n",
              "    <tr>\n",
              "      <th>3</th>\n",
              "      <td>2004-10-03</td>\n",
              "      <td>2021-03-05 21:00:00</td>\n",
              "      <td>2.2</td>\n",
              "      <td>1376.0</td>\n",
              "      <td>80.0</td>\n",
              "      <td>9.2</td>\n",
              "      <td>948.0</td>\n",
              "      <td>172.0</td>\n",
              "      <td>1092.0</td>\n",
              "      <td>122.0</td>\n",
              "      <td>1584.0</td>\n",
              "      <td>1203.0</td>\n",
              "      <td>11.0</td>\n",
              "      <td>60.0</td>\n",
              "      <td>0.7867</td>\n",
              "    </tr>\n",
              "    <tr>\n",
              "      <th>4</th>\n",
              "      <td>2004-10-03</td>\n",
              "      <td>2021-03-05 22:00:00</td>\n",
              "      <td>1.6</td>\n",
              "      <td>1272.0</td>\n",
              "      <td>51.0</td>\n",
              "      <td>6.5</td>\n",
              "      <td>836.0</td>\n",
              "      <td>131.0</td>\n",
              "      <td>1205.0</td>\n",
              "      <td>116.0</td>\n",
              "      <td>1490.0</td>\n",
              "      <td>1110.0</td>\n",
              "      <td>11.2</td>\n",
              "      <td>59.6</td>\n",
              "      <td>0.7888</td>\n",
              "    </tr>\n",
              "    <tr>\n",
              "      <th>...</th>\n",
              "      <td>...</td>\n",
              "      <td>...</td>\n",
              "      <td>...</td>\n",
              "      <td>...</td>\n",
              "      <td>...</td>\n",
              "      <td>...</td>\n",
              "      <td>...</td>\n",
              "      <td>...</td>\n",
              "      <td>...</td>\n",
              "      <td>...</td>\n",
              "      <td>...</td>\n",
              "      <td>...</td>\n",
              "      <td>...</td>\n",
              "      <td>...</td>\n",
              "      <td>...</td>\n",
              "    </tr>\n",
              "    <tr>\n",
              "      <th>9352</th>\n",
              "      <td>2005-04-04</td>\n",
              "      <td>2021-03-05 10:00:00</td>\n",
              "      <td>3.1</td>\n",
              "      <td>1314.0</td>\n",
              "      <td>-200.0</td>\n",
              "      <td>13.5</td>\n",
              "      <td>1101.0</td>\n",
              "      <td>472.0</td>\n",
              "      <td>539.0</td>\n",
              "      <td>190.0</td>\n",
              "      <td>1374.0</td>\n",
              "      <td>1729.0</td>\n",
              "      <td>21.9</td>\n",
              "      <td>29.3</td>\n",
              "      <td>0.7568</td>\n",
              "    </tr>\n",
              "    <tr>\n",
              "      <th>9353</th>\n",
              "      <td>2005-04-04</td>\n",
              "      <td>2021-03-05 11:00:00</td>\n",
              "      <td>2.4</td>\n",
              "      <td>1163.0</td>\n",
              "      <td>-200.0</td>\n",
              "      <td>11.4</td>\n",
              "      <td>1027.0</td>\n",
              "      <td>353.0</td>\n",
              "      <td>604.0</td>\n",
              "      <td>179.0</td>\n",
              "      <td>1264.0</td>\n",
              "      <td>1269.0</td>\n",
              "      <td>24.3</td>\n",
              "      <td>23.7</td>\n",
              "      <td>0.7119</td>\n",
              "    </tr>\n",
              "    <tr>\n",
              "      <th>9354</th>\n",
              "      <td>2005-04-04</td>\n",
              "      <td>2021-03-05 12:00:00</td>\n",
              "      <td>2.4</td>\n",
              "      <td>1142.0</td>\n",
              "      <td>-200.0</td>\n",
              "      <td>12.4</td>\n",
              "      <td>1063.0</td>\n",
              "      <td>293.0</td>\n",
              "      <td>603.0</td>\n",
              "      <td>175.0</td>\n",
              "      <td>1241.0</td>\n",
              "      <td>1092.0</td>\n",
              "      <td>26.9</td>\n",
              "      <td>18.3</td>\n",
              "      <td>0.6406</td>\n",
              "    </tr>\n",
              "    <tr>\n",
              "      <th>9355</th>\n",
              "      <td>2005-04-04</td>\n",
              "      <td>2021-03-05 13:00:00</td>\n",
              "      <td>2.1</td>\n",
              "      <td>1003.0</td>\n",
              "      <td>-200.0</td>\n",
              "      <td>9.5</td>\n",
              "      <td>961.0</td>\n",
              "      <td>235.0</td>\n",
              "      <td>702.0</td>\n",
              "      <td>156.0</td>\n",
              "      <td>1041.0</td>\n",
              "      <td>770.0</td>\n",
              "      <td>28.3</td>\n",
              "      <td>13.5</td>\n",
              "      <td>0.5139</td>\n",
              "    </tr>\n",
              "    <tr>\n",
              "      <th>9356</th>\n",
              "      <td>2005-04-04</td>\n",
              "      <td>2021-03-05 14:00:00</td>\n",
              "      <td>2.2</td>\n",
              "      <td>1071.0</td>\n",
              "      <td>-200.0</td>\n",
              "      <td>11.9</td>\n",
              "      <td>1047.0</td>\n",
              "      <td>265.0</td>\n",
              "      <td>654.0</td>\n",
              "      <td>168.0</td>\n",
              "      <td>1129.0</td>\n",
              "      <td>816.0</td>\n",
              "      <td>28.5</td>\n",
              "      <td>13.1</td>\n",
              "      <td>0.5028</td>\n",
              "    </tr>\n",
              "  </tbody>\n",
              "</table>\n",
              "<p>9357 rows × 15 columns</p>\n",
              "</div>"
            ],
            "text/plain": [
              "           Date                Time  CO(GT)  ...     T    RH      AH\n",
              "0    2004-10-03 2021-03-05 18:00:00     2.6  ...  13.6  48.9  0.7578\n",
              "1    2004-10-03 2021-03-05 19:00:00     2.0  ...  13.3  47.7  0.7255\n",
              "2    2004-10-03 2021-03-05 20:00:00     2.2  ...  11.9  54.0  0.7502\n",
              "3    2004-10-03 2021-03-05 21:00:00     2.2  ...  11.0  60.0  0.7867\n",
              "4    2004-10-03 2021-03-05 22:00:00     1.6  ...  11.2  59.6  0.7888\n",
              "...         ...                 ...     ...  ...   ...   ...     ...\n",
              "9352 2005-04-04 2021-03-05 10:00:00     3.1  ...  21.9  29.3  0.7568\n",
              "9353 2005-04-04 2021-03-05 11:00:00     2.4  ...  24.3  23.7  0.7119\n",
              "9354 2005-04-04 2021-03-05 12:00:00     2.4  ...  26.9  18.3  0.6406\n",
              "9355 2005-04-04 2021-03-05 13:00:00     2.1  ...  28.3  13.5  0.5139\n",
              "9356 2005-04-04 2021-03-05 14:00:00     2.2  ...  28.5  13.1  0.5028\n",
              "\n",
              "[9357 rows x 15 columns]"
            ]
          },
          "metadata": {
            "tags": []
          },
          "execution_count": 83
        }
      ]
    }
  ]
}